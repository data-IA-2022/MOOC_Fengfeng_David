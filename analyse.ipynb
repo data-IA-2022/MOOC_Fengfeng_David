{
 "cells": [
  {
   "cell_type": "code",
   "execution_count": 15,
   "metadata": {},
   "outputs": [],
   "source": [
    "import pandas as pd\n",
    "import numpy as np\n",
    "import matplotlib.pyplot as plt\n",
    "import seaborn as sns\n",
    "from polyglot.detect import Detector\n",
    "from polyglot.text import Text\n",
    "from utils import get_config\n",
    "from sqlalchemy import create_engine\n",
    "from textblob import TextBlob as tb\n",
    "from textblob_fr import PatternTagger, PatternAnalyzer"
   ]
  },
  {
   "cell_type": "code",
   "execution_count": 27,
   "metadata": {},
   "outputs": [],
   "source": [
    "def detect_lang(text):\n",
    "  try:\n",
    "    detect = Detector(text)\n",
    "    return detect.language.code\n",
    "  except Exception:\n",
    "    return None\n",
    "\n",
    "def get_polarity(text):\n",
    "  lang = detect_lang(text)\n",
    "  text_analysed = Text(text, hint_language_code=lang)\n",
    "  try:\n",
    "    return text_analysed.polarity\n",
    "  except Exception:\n",
    "    return None\n",
    "\n",
    "def get_subjectivity(text):\n",
    "  lang = detect_lang(text)\n",
    "  blob = tb(text, pos_tagger=PatternTagger(), analyzer=PatternAnalyzer())\n",
    "  if lang == \"en\":\n",
    "    try:\n",
    "      return tb(text).sentiment.subjectivity\n",
    "    except Exception:\n",
    "      return None\n",
    "  elif lang == \"fr\":\n",
    "    try:\n",
    "      return blob.sentiment[1]\n",
    "    except Exception:\n",
    "      return None\n",
    "  else:\n",
    "    return None\n",
    "\n",
    "def get_eligibility(x):\n",
    "  return \"eligible\" if x==1 else \"non-eligible\"\n",
    "      \n",
    "def get_analysis(score):\n",
    "  if score < 0:\n",
    "    return \"Negatif\"\n",
    "  elif score == 0:\n",
    "    return \"Neutre\"\n",
    "  else:\n",
    "    return \"Positif\"\n",
    "  \n",
    "def get_analysis2(score):\n",
    "  if score <= 0.5:\n",
    "    return \"Objectif\"\n",
    "  elif score > 0.5:\n",
    "    return \"Subjectif\"\n",
    "  else:\n",
    "    return None"
   ]
  },
  {
   "cell_type": "code",
   "execution_count": 17,
   "metadata": {},
   "outputs": [],
   "source": [
    "engine = create_engine(get_config('mysql'))"
   ]
  },
  {
   "cell_type": "code",
   "execution_count": 18,
   "metadata": {},
   "outputs": [],
   "source": [
    "df = pd.read_sql(\"Select * from Result;\", engine)"
   ]
  },
  {
   "cell_type": "code",
   "execution_count": 25,
   "metadata": {},
   "outputs": [
    {
     "data": {
      "text/html": [
       "<div>\n",
       "<style scoped>\n",
       "    .dataframe tbody tr th:only-of-type {\n",
       "        vertical-align: middle;\n",
       "    }\n",
       "\n",
       "    .dataframe tbody tr th {\n",
       "        vertical-align: top;\n",
       "    }\n",
       "\n",
       "    .dataframe thead th {\n",
       "        text-align: right;\n",
       "    }\n",
       "</style>\n",
       "<table border=\"1\" class=\"dataframe\">\n",
       "  <thead>\n",
       "    <tr style=\"text-align: right;\">\n",
       "      <th></th>\n",
       "      <th>username</th>\n",
       "      <th>course_id</th>\n",
       "      <th>grade</th>\n",
       "      <th>eligibility</th>\n",
       "    </tr>\n",
       "  </thead>\n",
       "  <tbody>\n",
       "    <tr>\n",
       "      <th>16</th>\n",
       "      <td>__Baptiste__</td>\n",
       "      <td>course-v1:MinesTelecom+04026+session02</td>\n",
       "      <td>0.00</td>\n",
       "      <td>0.0</td>\n",
       "    </tr>\n",
       "    <tr>\n",
       "      <th>17</th>\n",
       "      <td>__Eric</td>\n",
       "      <td>MinesTelecom/04017/session01</td>\n",
       "      <td>0.98</td>\n",
       "      <td>0.0</td>\n",
       "    </tr>\n",
       "    <tr>\n",
       "      <th>18</th>\n",
       "      <td>__florent__</td>\n",
       "      <td>course-v1:MinesTelecom+04017+session04</td>\n",
       "      <td>0.00</td>\n",
       "      <td>0.0</td>\n",
       "    </tr>\n",
       "    <tr>\n",
       "      <th>19</th>\n",
       "      <td>__frederic__</td>\n",
       "      <td>course-v1:MinesTelecom+04017+session03</td>\n",
       "      <td>0.00</td>\n",
       "      <td>0.0</td>\n",
       "    </tr>\n",
       "    <tr>\n",
       "      <th>20</th>\n",
       "      <td>__frederic__</td>\n",
       "      <td>course-v1:MinesTelecom+04017+session04</td>\n",
       "      <td>0.00</td>\n",
       "      <td>0.0</td>\n",
       "    </tr>\n",
       "    <tr>\n",
       "      <th>...</th>\n",
       "      <td>...</td>\n",
       "      <td>...</td>\n",
       "      <td>...</td>\n",
       "      <td>...</td>\n",
       "    </tr>\n",
       "    <tr>\n",
       "      <th>113168</th>\n",
       "      <td>ZZOHRA</td>\n",
       "      <td>MinesTelecom/04021S02/session02</td>\n",
       "      <td>0.00</td>\n",
       "      <td>0.0</td>\n",
       "    </tr>\n",
       "    <tr>\n",
       "      <th>113169</th>\n",
       "      <td>Zzyzx</td>\n",
       "      <td>MinesTelecom/04017S02/session02</td>\n",
       "      <td>0.00</td>\n",
       "      <td>0.0</td>\n",
       "    </tr>\n",
       "    <tr>\n",
       "      <th>113170</th>\n",
       "      <td>Zzyzx</td>\n",
       "      <td>MinesTelecom/04018S02/session02</td>\n",
       "      <td>0.00</td>\n",
       "      <td>0.0</td>\n",
       "    </tr>\n",
       "    <tr>\n",
       "      <th>113171</th>\n",
       "      <td>ZzZiiiOoO</td>\n",
       "      <td>MinesTelecom/04018/session01</td>\n",
       "      <td>0.00</td>\n",
       "      <td>0.0</td>\n",
       "    </tr>\n",
       "    <tr>\n",
       "      <th>113172</th>\n",
       "      <td>zzzzj</td>\n",
       "      <td>course-v1:MinesTelecom+04026+session03</td>\n",
       "      <td>0.04</td>\n",
       "      <td>0.0</td>\n",
       "    </tr>\n",
       "  </tbody>\n",
       "</table>\n",
       "<p>113157 rows × 4 columns</p>\n",
       "</div>"
      ],
      "text/plain": [
       "            username                               course_id  grade  \\\n",
       "16      __Baptiste__  course-v1:MinesTelecom+04026+session02   0.00   \n",
       "17            __Eric            MinesTelecom/04017/session01   0.98   \n",
       "18       __florent__  course-v1:MinesTelecom+04017+session04   0.00   \n",
       "19      __frederic__  course-v1:MinesTelecom+04017+session03   0.00   \n",
       "20      __frederic__  course-v1:MinesTelecom+04017+session04   0.00   \n",
       "...              ...                                     ...    ...   \n",
       "113168        ZZOHRA         MinesTelecom/04021S02/session02   0.00   \n",
       "113169         Zzyzx         MinesTelecom/04017S02/session02   0.00   \n",
       "113170         Zzyzx         MinesTelecom/04018S02/session02   0.00   \n",
       "113171     ZzZiiiOoO            MinesTelecom/04018/session01   0.00   \n",
       "113172         zzzzj  course-v1:MinesTelecom+04026+session03   0.04   \n",
       "\n",
       "        eligibility  \n",
       "16              0.0  \n",
       "17              0.0  \n",
       "18              0.0  \n",
       "19              0.0  \n",
       "20              0.0  \n",
       "...             ...  \n",
       "113168          0.0  \n",
       "113169          0.0  \n",
       "113170          0.0  \n",
       "113171          0.0  \n",
       "113172          0.0  \n",
       "\n",
       "[113157 rows x 4 columns]"
      ]
     },
     "execution_count": 25,
     "metadata": {},
     "output_type": "execute_result"
    }
   ],
   "source": [
    "df = df.dropna()\n",
    "df"
   ]
  },
  {
   "cell_type": "code",
   "execution_count": 20,
   "metadata": {},
   "outputs": [
    {
     "data": {
      "text/plain": [
       "<AxesSubplot: xlabel='grade', ylabel='Count'>"
      ]
     },
     "execution_count": 20,
     "metadata": {},
     "output_type": "execute_result"
    },
    {
     "data": {
      "image/png": "[encoded data removed]",
      "text/plain": [
       "<Figure size 640x480 with 1 Axes>"
      ]
     },
     "metadata": {},
     "output_type": "display_data"
    }
   ],
   "source": [
    "sns.histplot(df['grade'], kde=True)"
   ]
  },
  {
   "cell_type": "code",
   "execution_count": 28,
   "metadata": {},
   "outputs": [],
   "source": [
    "df['eligibility'] = df['eligibility'].apply(get_eligibility)"
   ]
  },
  {
   "cell_type": "code",
   "execution_count": 29,
   "metadata": {},
   "outputs": [
    {
     "data": {
      "image/png": "[encoded data removed]",
      "text/plain": [
       "<Figure size 640x480 with 1 Axes>"
      ]
     },
     "metadata": {},
     "output_type": "display_data"
    }
   ],
   "source": [
    "color = sns.color_palette('bright')\n",
    "plt.pie(df['eligibility'].value_counts(),labels=['non eligible', 'eligible'], colors=color, autopct='%.0f%%')\n",
    "plt.show()"
   ]
  },
  {
   "cell_type": "code",
   "execution_count": null,
   "metadata": {},
   "outputs": [],
   "source": []
  }
 ],
 "metadata": {
  "kernelspec": {
   "display_name": "mooc",
   "language": "python",
   "name": "python3"
  },
  "language_info": {
   "codemirror_mode": {
    "name": "ipython",
    "version": 3
   },
   "file_extension": ".py",
   "mimetype": "text/x-python",
   "name": "python",
   "nbconvert_exporter": "python",
   "pygments_lexer": "ipython3",
   "version": "3.9.13"
  },
  "orig_nbformat": 4,
  "vscode": {
   "interpreter": {
    "hash": "80c96deac9aec6154dfd449a8294e9eca9c7ba43ef1b238a2dc4c2ebfe74ea18"
   }
  }
 },
 "nbformat": 4,
 "nbformat_minor": 2
}
